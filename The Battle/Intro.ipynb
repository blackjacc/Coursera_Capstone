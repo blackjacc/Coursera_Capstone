{
 "cells": [
  {
   "cell_type": "markdown",
   "metadata": {},
   "source": [
    "## The Battle of Neighborhoods | Business Proposal "
   ]
  },
  {
   "cell_type": "markdown",
   "metadata": {},
   "source": [
    "#### Introduction:"
   ]
  },
  {
   "cell_type": "markdown",
   "metadata": {},
   "source": [
    " The objective of this project is to analizing Venues in Zurich Switzerland in order to asses the opportunity to open a new business depending on the postal code location / neigborhood. This projects will also explore the geographical location /neighborhoods and proximity to to the venues."
   ]
  },
  {
   "cell_type": "markdown",
   "metadata": {},
   "source": [
    "#### Scope:"
   ]
  },
  {
   "cell_type": "markdown",
   "metadata": {},
   "source": [
    "This projects will also explore the geographical location /neighborhoods and proximito to the venues. Switzerland is a small country with around 8.5 million and composed of 26 Kantons , this Kanton are kind of states. Each of the Kanton has different dialacts and mix of poeple. In some of them German is the primarly language as is other is French or Italian.\n",
    "I will focus only in Zurich."
   ]
  },
  {
   "cell_type": "markdown",
   "metadata": {},
   "source": [
    "####  Work Flow:"
   ]
  },
  {
   "cell_type": "markdown",
   "metadata": {},
   "source": [
    "This project would use Four-square API as its prime data gathering source as it has a database of millions of places, especially their places API which provides the ability to perform location search, location sharing and details about a business."
   ]
  },
  {
   "cell_type": "markdown",
   "metadata": {},
   "source": [
    "#### Risk:"
   ]
  },
  {
   "cell_type": "markdown",
   "metadata": {},
   "source": [
    "As im analizing an european country it maight be that Foursquare isnt the best source to get the right infro , but this is something i will have to asses once the project is done."
   ]
  },
  {
   "cell_type": "markdown",
   "metadata": {},
   "source": [
    " "
   ]
  },
  {
   "cell_type": "markdown",
   "metadata": {},
   "source": [
    "# The Battle of Neighborhoods | Data Description"
   ]
  },
  {
   "cell_type": "markdown",
   "metadata": {},
   "source": [
    "#### Data Description:"
   ]
  },
  {
   "cell_type": "markdown",
   "metadata": {},
   "source": [
    "The main data: I will make use of the postal codes and the information from the Foursquare API for visual localization and ratings. The extend of this project will explore the different neigborhoods In Zurich as it is the most populated Kanton in switzerland. The coding is done is such a way that the different Kanton in switzerland can be analized separate by just changing the Kanton name."
   ]
  },
  {
   "cell_type": "markdown",
   "metadata": {},
   "source": [
    "The Zurich geographical location will be utilized as input for the foursquare API. The geograpical coordinate of Zurich are 47.4133024, 8.656394."
   ]
  },
  {
   "cell_type": "markdown",
   "metadata": {},
   "source": [
    "\n",
    "\n",
    "Ultimately i will cluster the results to determine the best ideas for a new business based on the most common venue and try to find out what kind of business are not existent in that areas."
   ]
  },
  {
   "cell_type": "markdown",
   "metadata": {},
   "source": [
    "Country info: https://en.wikipedia.org/wiki/Switzerland"
   ]
  },
  {
   "cell_type": "markdown",
   "metadata": {},
   "source": [
    "Postal codes:  https://www.geonames.org/postalcode-search.html?q=&country=CH&adminCode1="
   ]
  },
  {
   "cell_type": "markdown",
   "metadata": {},
   "source": [
    "Foursquare API Data : https://foursquare.com/developers/apps"
   ]
  },
  {
   "cell_type": "markdown",
   "metadata": {},
   "source": [
    "Largest towns in Switzerland\n",
    "Swiss Federal Statistical Office (FSO),\n",
    "\n",
    "Rank\tName\tCanton\tPop.\t\n",
    "1\tZürich\tZürich\t420,217\t11\t\n",
    "2\tGeneva\tGeneva\t203,951\t\n",
    "3\tBasel\tBasel-Stadt\t178,722\t\n",
    "4\tLausanne\tVaud\t139,408\t\n",
    "5\tBern\tBern\t134,591\t1\n",
    "6\tWinterthur\tZürich\t113,173\t\n",
    "7\tLucerne\tLuzern\t82,257\t\n",
    "8\tSt. Gallen\tSt. Gallen\t76,090\t\n",
    "9\tLugano\tTicino\t62,615\t\n",
    "10\tBiel/Bienne\tBern\t55,602\t"
   ]
  },
  {
   "cell_type": "markdown",
   "metadata": {},
   "source": [
    "#### Libraries Used to Develope the Project:"
   ]
  },
  {
   "cell_type": "markdown",
   "metadata": {},
   "source": [
    "Numpy: support for large, multi-dimensional arrays and matrices, along with a large collection of high-level mathematical functions\n",
    "\n",
    "Geopy: client for several popular geocoding web services\n",
    "\n",
    "Pandas: For creating and manipulating dataframes.\n",
    "\n",
    "Folium: Python visualization library would be used to visualize the neighborhoods cluster distribution of using interactive leaflet map.\n",
    "\n",
    "Scikit Learn: For importing k-means clustering.\n",
    "\n",
    "JSON: Library to handle JSON files.\n",
    "\n",
    "Geocoder: To retrieve Location Data.\n",
    "\n",
    "Beautiful Soup and Requests: To scrap and library to handle http requests.\n",
    "\n",
    "Matplotlib: Python Plotting Module.\n",
    "    "
   ]
  },
  {
   "cell_type": "code",
   "execution_count": null,
   "metadata": {},
   "outputs": [],
   "source": []
  }
 ],
 "metadata": {
  "kernelspec": {
   "display_name": "Python 3.7.6 64-bit ('base': conda)",
   "language": "python",
   "name": "python37664bitbasecondaf32a12efebf748b295cf52ba1987da6a"
  },
  "language_info": {
   "codemirror_mode": {
    "name": "ipython",
    "version": 3
   },
   "file_extension": ".py",
   "mimetype": "text/x-python",
   "name": "python",
   "nbconvert_exporter": "python",
   "pygments_lexer": "ipython3",
   "version": "3.7.9"
  }
 },
 "nbformat": 4,
 "nbformat_minor": 2
}
